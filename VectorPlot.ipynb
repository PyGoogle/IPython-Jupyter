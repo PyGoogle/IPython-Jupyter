{
 "cells": [
  {
   "cell_type": "code",
   "execution_count": 4,
   "metadata": {
    "collapsed": false
   },
   "outputs": [
    {
     "data": {
      "image/png": "[encoded data removed]",
      "text/plain": [
       "<matplotlib.figure.Figure at 0x7fdee1648710>"
      ]
     },
     "metadata": {},
     "output_type": "display_data"
    }
   ],
   "source": [
    "%matplotlib inline\n",
    "import numpy as np\n",
    "import matplotlib.pyplot as plt\n",
    "soa =np.array( [ [0,0,1,0], [0,0,1,1],[0,0,0,1], [0,0,-1,1]]) \n",
    "X,Y,U,V = zip(*soa)\n",
    "plt.figure()\n",
    "ax = plt.gca()\n",
    "ax.quiver(X,Y,U,V,angles='xy',scale_units='xy',scale=1)\n",
    "ax.set_xlim([-2,2])\n",
    "ax.set_ylim([-1,2])\n",
    "plt.text(1.0, 0.1, r'$\\vec a$', fontsize=24, color='red', fontweight='bold')\n",
    "plt.text(1.1, 1.1, r'$\\vec b$', fontsize=24, color='green', fontweight='bold')\n",
    "plt.text(0.0, 1.1, r'$\\vec c$', fontsize=24, color='blue', fontweight='bold')\n",
    "plt.text(-1.1, 1.1, r'$\\vec d$', fontsize=24, color='orange', fontweight='bold')\n",
    "plt.draw()\n",
    "plt.show()"
   ]
  },
  {
   "cell_type": "code",
   "execution_count": null,
   "metadata": {
    "collapsed": true
   },
   "outputs": [],
   "source": []
  }
 ],
 "metadata": {
  "kernelspec": {
   "display_name": "Python 3",
   "language": "python",
   "name": "python3"
  },
  "language_info": {
   "codemirror_mode": {
    "name": "ipython",
    "version": 3
   },
   "file_extension": ".py",
   "mimetype": "text/x-python",
   "name": "python",
   "nbconvert_exporter": "python",
   "pygments_lexer": "ipython3",
   "version": "3.5.1"
  }
 },
 "nbformat": 4,
 "nbformat_minor": 0
}
